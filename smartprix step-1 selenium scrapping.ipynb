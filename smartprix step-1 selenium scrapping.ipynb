{
 "cells": [
  {
   "cell_type": "code",
   "execution_count": 4,
   "id": "75849ce3",
   "metadata": {},
   "outputs": [],
   "source": [
    "from selenium import webdriver\n",
    "import time\n",
    "from selenium.webdriver.common.by import By"
   ]
  },
  {
   "cell_type": "code",
   "execution_count": 11,
   "id": "6f34c018",
   "metadata": {},
   "outputs": [],
   "source": [
    "driver = webdriver.Firefox()\n",
    "\n",
    "driver.get('https://www.smartprix.com/mobiles')\n",
    "time.sleep(1)\n",
    "\n",
    "driver.find_element(by = By.XPATH,value = '/html/body/div[1]/main/aside/div/div[5]/div[2]/label[1]/input').click()\n",
    "time.sleep(1)\n",
    "driver.find_element(by = By.XPATH,value = '/html/body/div[1]/main/aside/div/div[5]/div[2]/label[2]/input').click()\n",
    "time.sleep(2)\n",
    "\n",
    "old_height = driver.execute_script('return document.body.scrollHeight')\n",
    "while True:\n",
    "    driver.find_element(by = By.XPATH,value = '/html/body/div[1]/main/div[1]/div[2]/div[3]').click()\n",
    "    time.sleep(1)\n",
    "    \n",
    "    new_height = driver.execute_script('return document.body.scrollHeight')\n",
    "    \n",
    "    if new_height == old_height:\n",
    "        break\n",
    "    old_height = new_height\n",
    "    \n",
    "html = driver.page_source\n",
    "with open('smartprix.html','w',encoding = 'utf-8') as f:\n",
    "    f.write(html)\n"
   ]
  },
  {
   "cell_type": "code",
   "execution_count": null,
   "id": "af18e542",
   "metadata": {},
   "outputs": [],
   "source": []
  }
 ],
 "metadata": {
  "kernelspec": {
   "display_name": "Python 3 (ipykernel)",
   "language": "python",
   "name": "python3"
  },
  "language_info": {
   "codemirror_mode": {
    "name": "ipython",
    "version": 3
   },
   "file_extension": ".py",
   "mimetype": "text/x-python",
   "name": "python",
   "nbconvert_exporter": "python",
   "pygments_lexer": "ipython3",
   "version": "3.11.1"
  }
 },
 "nbformat": 4,
 "nbformat_minor": 5
}
